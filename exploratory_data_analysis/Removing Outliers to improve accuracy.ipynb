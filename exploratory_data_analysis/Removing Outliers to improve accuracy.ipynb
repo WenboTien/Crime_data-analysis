{
 "cells": [
  {
   "cell_type": "code",
   "execution_count": 18,
   "metadata": {
    "collapsed": false,
    "deletable": true,
    "editable": true
   },
   "outputs": [
    {
     "name": "stdout",
     "output_type": "stream",
     "text": [
      "The scikit-learn version is 0.18.1.\n",
      "The pandas version is 0.19.2.\n",
      "The numpy version is 1.12.0.\n"
     ]
    }
   ],
   "source": [
    "import numpy as np\n",
    "import matplotlib.pyplot as plt\n",
    "import pandas as pd\n",
    "import sklearn\n",
    "\n",
    "from scipy import stats, optimize\n",
    "from sklearn.preprocessing import Imputer, StandardScaler, MinMaxScaler\n",
    "from sklearn.model_selection import train_test_split\n",
    "from sklearn.linear_model import Lasso, LinearRegression\n",
    "from sklearn.linear_model import Ridge, LassoLars, BayesianRidge, ARDRegression, Lars\n",
    "from sklearn.linear_model import RANSACRegressor, ElasticNet\n",
    "from sklearn.linear_model import PassiveAggressiveRegressor, Perceptron\n",
    "from sklearn.pipeline import Pipeline\n",
    "from sklearn.feature_selection import SelectFromModel, SelectKBest, f_regression\n",
    "from sklearn.linear_model import LassoCV, RidgeCV\n",
    "\n",
    "from sklearn.svm import LinearSVR\n",
    "from sklearn.base import clone\n",
    "from itertools import combinations\n",
    "from sklearn.metrics import explained_variance_score, r2_score, median_absolute_error, mean_squared_error\n",
    "\n",
    "from sklearn.ensemble import GradientBoostingRegressor\n",
    "from sklearn.ensemble import RandomForestRegressor\n",
    "from sklearn.model_selection import cross_val_score\n",
    "from sklearn.model_selection import StratifiedKFold\n",
    "from sklearn.feature_selection import RFECV\n",
    "\n",
    "print('The scikit-learn version is {}.'.format(sklearn.__version__))\n",
    "print('The pandas version is {}.'.format(pd.__version__))\n",
    "print('The numpy version is {}.'.format(np.__version__))"
   ]
  },
  {
   "cell_type": "code",
   "execution_count": 2,
   "metadata": {
    "collapsed": true,
    "deletable": true,
    "editable": true
   },
   "outputs": [],
   "source": [
    "goal_features = ['murders', 'murdPerPop', 'rapes', 'rapesPerPop', 'robberies','robbbPerPop',\n",
    "                 'assaults', 'assaultPerPop', 'burglaries', 'burglPerPop', 'larcenies', 'larcPerPop',\n",
    "                 'autoTheft', 'autoTheftPerPop', 'arsons', 'arsonsPerPop', 'violentPerPop', 'nonViolPerPop']\n",
    "\n",
    "non_predictive_features = ['communityname', 'state', 'countyCode', 'communityCode', 'fold']"
   ]
  },
  {
   "cell_type": "code",
   "execution_count": 3,
   "metadata": {
    "collapsed": false,
    "deletable": true,
    "editable": true
   },
   "outputs": [
    {
     "data": {
      "text/plain": [
       "124"
      ]
     },
     "execution_count": 3,
     "metadata": {},
     "output_type": "execute_result"
    }
   ],
   "source": [
    "df = pd.read_csv('../datasets/UnnormalizedCrimeData.csv');\n",
    "df = df.replace('?',np.NAN)\n",
    "features = [x for x in df.columns if x not in goal_features and x not in non_predictive_features]\n",
    "len(features)"
   ]
  },
  {
   "cell_type": "code",
   "execution_count": 4,
   "metadata": {
    "collapsed": true,
    "deletable": true,
    "editable": true
   },
   "outputs": [],
   "source": [
    "def drop_rows_with_null_goal_feature(old_df, feature):\n",
    "    new_df = old_df.dropna(subset=[feature])\n",
    "    return new_df"
   ]
  },
  {
   "cell_type": "markdown",
   "metadata": {
    "deletable": true,
    "editable": true
   },
   "source": [
    "# Distribution of output for each crime\n",
    "\n",
    "Let us see the distribution of all the 4 crimes. The idea is to remove the outliers so that we get more accuracy"
   ]
  },
  {
   "cell_type": "code",
   "execution_count": 5,
   "metadata": {
    "collapsed": false,
    "deletable": true,
    "editable": true
   },
   "outputs": [
    {
     "name": "stdout",
     "output_type": "stream",
     "text": [
      "count    2215.000000\n",
      "mean        7.764786\n",
      "std        58.166468\n",
      "min         0.000000\n",
      "25%         0.000000\n",
      "50%         1.000000\n",
      "75%         3.000000\n",
      "max      1946.000000\n",
      "Name: murders, dtype: float64\n"
     ]
    },
    {
     "data": {
      "image/png": "[encoded data removed]",
      "text/plain": [
       "<matplotlib.figure.Figure at 0x7f50505b56d0>"
      ]
     },
     "metadata": {},
     "output_type": "display_data"
    }
   ],
   "source": [
    "goal_feature = 'murders'\n",
    "goal_df = drop_rows_with_null_goal_feature(df, goal_feature)\n",
    "print goal_df['murders'].describe()\n",
    "\n",
    "# Create a figure instance\n",
    "fig = plt.figure(1, figsize=(9, 6))\n",
    "\n",
    "# Create an axes instance\n",
    "ax = fig.add_subplot(111)\n",
    "\n",
    "# Create the boxplot\n",
    "bp = ax.boxplot(goal_df['murders'])\n",
    "\n",
    "\n",
    "#plt.boxplot(goal_df['murders'], sym='k.', showfliers=True, showmeans=True, showcaps=True, showbox=True)\n",
    "plt.show()"
   ]
  },
  {
   "cell_type": "code",
   "execution_count": 6,
   "metadata": {
    "collapsed": false,
    "deletable": true,
    "editable": true
   },
   "outputs": [
    {
     "name": "stdout",
     "output_type": "stream",
     "text": [
      "count    2007.000000\n",
      "mean       28.046338\n",
      "std       105.616135\n",
      "min         0.000000\n",
      "25%         2.000000\n",
      "50%         7.000000\n",
      "75%        19.000000\n",
      "max      2818.000000\n",
      "Name: rapes, dtype: float64\n"
     ]
    },
    {
     "name": "stderr",
     "output_type": "stream",
     "text": [
      "/usr/local/lib/python2.7/dist-packages/pandas/core/frame.py:2440: SettingWithCopyWarning: \n",
      "A value is trying to be set on a copy of a slice from a DataFrame.\n",
      "Try using .loc[row_indexer,col_indexer] = value instead\n",
      "\n",
      "See the caveats in the documentation: http://pandas.pydata.org/pandas-docs/stable/indexing.html#indexing-view-versus-copy\n",
      "  self[k1] = value[k2]\n"
     ]
    },
    {
     "data": {
      "image/png": "[encoded data removed]",
      "text/plain": [
       "<matplotlib.figure.Figure at 0x7f501b0ccc50>"
      ]
     },
     "metadata": {},
     "output_type": "display_data"
    }
   ],
   "source": [
    "goal_feature = 'rapes'\n",
    "goal_df = drop_rows_with_null_goal_feature(df, goal_feature)\n",
    "goal_df[[goal_feature]] = goal_df[[goal_feature]].apply(pd.to_numeric)\n",
    "\n",
    "print goal_df[goal_feature].describe()\n",
    "\n",
    "# Create a figure instance\n",
    "fig = plt.figure(1, figsize=(9, 6))\n",
    "\n",
    "# Create an axes instance\n",
    "ax = fig.add_subplot(111)\n",
    "\n",
    "# Create the boxplot\n",
    "bp = ax.boxplot(goal_df[goal_feature])\n",
    "\n",
    "#plt.boxplot(goal_df['murders'], sym='k.', showfliers=True, showmeans=True, showcaps=True, showbox=True)\n",
    "plt.show()"
   ]
  },
  {
   "cell_type": "code",
   "execution_count": 7,
   "metadata": {
    "collapsed": false,
    "deletable": true,
    "editable": true
   },
   "outputs": [
    {
     "name": "stdout",
     "output_type": "stream",
     "text": [
      "count     2214.000000\n",
      "mean       237.952123\n",
      "std       2250.720788\n",
      "min          0.000000\n",
      "25%          5.000000\n",
      "50%         19.000000\n",
      "75%         70.000000\n",
      "max      86001.000000\n",
      "Name: robberies, dtype: float64\n"
     ]
    },
    {
     "data": {
      "image/png": "[encoded data removed]",
      "text/plain": [
       "<matplotlib.figure.Figure at 0x7f5018ba6410>"
      ]
     },
     "metadata": {},
     "output_type": "display_data"
    }
   ],
   "source": [
    "goal_feature = 'robberies'\n",
    "goal_df = drop_rows_with_null_goal_feature(df, goal_feature)\n",
    "goal_df[[goal_feature]] = goal_df[[goal_feature]].apply(pd.to_numeric)\n",
    "\n",
    "print goal_df[goal_feature].describe()\n",
    "\n",
    "# Create a figure instance\n",
    "fig = plt.figure(1, figsize=(9, 6))\n",
    "\n",
    "# Create an axes instance\n",
    "ax = fig.add_subplot(111)\n",
    "\n",
    "# Create the boxplot\n",
    "bp = ax.boxplot(goal_df[goal_feature])\n",
    "\n",
    "#plt.boxplot(goal_df['murders'], sym='k.', showfliers=True, showmeans=True, showcaps=True, showbox=True)\n",
    "plt.show()"
   ]
  },
  {
   "cell_type": "code",
   "execution_count": 8,
   "metadata": {
    "collapsed": false,
    "deletable": true,
    "editable": true
   },
   "outputs": [
    {
     "name": "stdout",
     "output_type": "stream",
     "text": [
      "count     2202.000000\n",
      "mean       326.528156\n",
      "std       1987.947941\n",
      "min          0.000000\n",
      "25%         18.000000\n",
      "50%         56.000000\n",
      "75%        180.000000\n",
      "max      62778.000000\n",
      "Name: assaults, dtype: float64\n"
     ]
    },
    {
     "data": {
      "image/png": "[encoded data removed]",
      "text/plain": [
       "<matplotlib.figure.Figure at 0x7f501af76910>"
      ]
     },
     "metadata": {},
     "output_type": "display_data"
    }
   ],
   "source": [
    "goal_feature = 'assaults'\n",
    "goal_df = drop_rows_with_null_goal_feature(df, goal_feature)\n",
    "goal_df[[goal_feature]] = goal_df[[goal_feature]].apply(pd.to_numeric)\n",
    "\n",
    "print goal_df[goal_feature].describe()\n",
    "\n",
    "# Create a figure instance\n",
    "fig = plt.figure(1, figsize=(9, 6))\n",
    "\n",
    "# Create an axes instance\n",
    "ax = fig.add_subplot(111)\n",
    "\n",
    "# Create the boxplot\n",
    "bp = ax.boxplot(goal_df[goal_feature])\n",
    "\n",
    "#plt.boxplot(goal_df['murders'], sym='k.', showfliers=True, showmeans=True, showcaps=True, showbox=True)\n",
    "plt.show()"
   ]
  },
  {
   "cell_type": "code",
   "execution_count": 9,
   "metadata": {
    "collapsed": false,
    "deletable": true,
    "editable": true
   },
   "outputs": [
    {
     "name": "stdout",
     "output_type": "stream",
     "text": [
      "count     2212.000000\n",
      "mean       761.236890\n",
      "std       3111.702756\n",
      "min          2.000000\n",
      "25%         95.000000\n",
      "50%        205.000000\n",
      "75%        508.000000\n",
      "max      99207.000000\n",
      "Name: burglaries, dtype: float64\n"
     ]
    },
    {
     "data": {
      "image/png": "[encoded data removed]",
      "text/plain": [
       "<matplotlib.figure.Figure at 0x7f5018c13610>"
      ]
     },
     "metadata": {},
     "output_type": "display_data"
    }
   ],
   "source": [
    "goal_feature = 'burglaries'\n",
    "goal_df = drop_rows_with_null_goal_feature(df, goal_feature)\n",
    "goal_df[[goal_feature]] = goal_df[[goal_feature]].apply(pd.to_numeric)\n",
    "\n",
    "print goal_df[goal_feature].describe()\n",
    "\n",
    "# Create a figure instance\n",
    "fig = plt.figure(1, figsize=(9, 6))\n",
    "\n",
    "# Create an axes instance\n",
    "ax = fig.add_subplot(111)\n",
    "\n",
    "# Create the boxplot\n",
    "bp = ax.boxplot(goal_df[goal_feature])\n",
    "\n",
    "#plt.boxplot(goal_df['murders'], sym='k.', showfliers=True, showmeans=True, showcaps=True, showbox=True)\n",
    "plt.show()"
   ]
  },
  {
   "cell_type": "code",
   "execution_count": 10,
   "metadata": {
    "collapsed": false,
    "deletable": true,
    "editable": true
   },
   "outputs": [
    {
     "name": "stdout",
     "output_type": "stream",
     "text": [
      "2170\n",
      "Cross Validation Score MSE and R_2 are -14.7826431564 and 0.740141086644\n",
      "Training MSE error & R_2 SCore are 8.23238245053 and 0.852162192363 \n",
      "Test MSE error & R_2 SCore are 11.5293803408 and 0.670489411585 \n"
     ]
    }
   ],
   "source": [
    "clf = Pipeline([\n",
    "  ('feature_selection', SelectKBest(k=96, score_func=f_regression)),\n",
    "  ('regression', (Ridge()))\n",
    "])\n",
    "\n",
    "goal_feature = 'murders'\n",
    "\n",
    "\n",
    "goal_df = drop_rows_with_null_goal_feature(df, goal_feature)\n",
    "goal_df[[goal_feature]] = goal_df[[goal_feature]].apply(pd.to_numeric)\n",
    "goal_df = goal_df[goal_df.murders <= goal_df.murders.quantile(.98)]\n",
    "print len(goal_df)\n",
    "#print goal_df.describe()\n",
    "imr = Imputer(missing_values='NaN', strategy='mean', axis=0)\n",
    "imr = imr.fit(goal_df[features])\n",
    "imputed_data = imr.transform(goal_df[features]);\n",
    "\n",
    "df_X_train, df_X_test, df_y_train, df_y_test = \\\n",
    "        train_test_split(imputed_data, goal_df[goal_feature], test_size=0.3)\n",
    "\n",
    "\n",
    "mse_cv = cross_val_score(estimator = clf, X=df_X_train, y=df_y_train, scoring='neg_mean_squared_error')\n",
    "r2_cv = cross_val_score(estimator=clf, X=df_X_train, y=df_y_train, scoring='r2')\n",
    "\n",
    "print \"Cross Validation Score MSE and R_2 are {0} and {1}\".format(mse_cv.mean(), r2_cv.mean())\n",
    "clf.fit(df_X_train, df_y_train)\n",
    "\n",
    "\n",
    "mse_train = mean_squared_error(df_y_train, clf.predict(df_X_train))\n",
    "r2_train = r2_score(df_y_train, clf.predict(df_X_train))\n",
    "\n",
    "print \"Training MSE error & R_2 SCore are {0} and {1} \".format(mse_train,  r2_train)\n",
    "\n",
    "mse = mean_squared_error(df_y_test, clf.predict(df_X_test))\n",
    "r2_sc = r2_score(df_y_test, clf.predict(df_X_test))\n",
    "print \"Test MSE error & R_2 SCore are {0} and {1} \".format(mse,  r2_sc)"
   ]
  },
  {
   "cell_type": "code",
   "execution_count": 14,
   "metadata": {
    "collapsed": false,
    "deletable": true,
    "editable": true
   },
   "outputs": [
    {
     "name": "stdout",
     "output_type": "stream",
     "text": [
      "1966\n",
      "Cross Validation Score MSE and R_2 are -296.342974737 and 0.810639416464\n",
      "Training MSE error & R_2 SCore are 33.4020255817 and 0.97783809487 \n",
      "Test MSE error & R_2 SCore are 367.478470025 and 0.802588606813 \n"
     ]
    }
   ],
   "source": [
    "clf = Pipeline([\n",
    "  ('feature_selection', SelectKBest(k=100, score_func=f_regression)),\n",
    "  ('regression', GradientBoostingRegressor())\n",
    "])\n",
    "\n",
    "goal_feature = 'rapes'\n",
    "\n",
    "goal_df = drop_rows_with_null_goal_feature(df, goal_feature)\n",
    "goal_df[[goal_feature]] = goal_df[[goal_feature]].apply(pd.to_numeric)\n",
    "goal_df = goal_df[goal_df.murders <= goal_df.murders.quantile(.98)]\n",
    "print len(goal_df)\n",
    "#print goal_df.describe()\n",
    "imr = Imputer(missing_values='NaN', strategy='mean', axis=0)\n",
    "imr = imr.fit(goal_df[features])\n",
    "imputed_data = imr.transform(goal_df[features]);\n",
    "\n",
    "df_X_train, df_X_test, df_y_train, df_y_test = \\\n",
    "        train_test_split(imputed_data, goal_df[goal_feature], test_size=0.3)\n",
    "\n",
    "\n",
    "mse_cv = cross_val_score(estimator = clf, X=df_X_train, y=df_y_train, scoring='neg_mean_squared_error')\n",
    "r2_cv = cross_val_score(estimator=clf, X=df_X_train, y=df_y_train, scoring='r2')\n",
    "\n",
    "print \"Cross Validation Score MSE and R_2 are {0} and {1}\".format(mse_cv.mean(), r2_cv.mean())\n",
    "clf.fit(df_X_train, df_y_train)\n",
    "\n",
    "\n",
    "mse_train = mean_squared_error(df_y_train, clf.predict(df_X_train))\n",
    "r2_train = r2_score(df_y_train, clf.predict(df_X_train))\n",
    "\n",
    "print \"Training MSE error & R_2 SCore are {0} and {1} \".format(mse_train,  r2_train)\n",
    "\n",
    "mse = mean_squared_error(df_y_test, clf.predict(df_X_test))\n",
    "r2_sc = r2_score(df_y_test, clf.predict(df_X_test))\n",
    "print \"Test MSE error & R_2 SCore are {0} and {1} \".format(mse,  r2_sc)"
   ]
  },
  {
   "cell_type": "code",
   "execution_count": 28,
   "metadata": {
    "collapsed": false,
    "deletable": true,
    "editable": true
   },
   "outputs": [
    {
     "name": "stdout",
     "output_type": "stream",
     "text": [
      "2202\n",
      "Cross Validation Score MSE and R_2 are -1269786.73033 and 0.743747379313\n",
      "Oviedocity            FL  ?    ?      10      89\n",
      "StevensPointcity      WI  97   77200  1       42\n",
      "Comptoncity           CA  ?    ?      4      998\n",
      "Commercecity          CA  ?    ?      4      176\n",
      "Homewoodcity          AL  ?    ?      3       26\n",
      "Grapevinecity         TX  ?    ?      1       78\n",
      "LaMarquecity          TX  ?    ?      7       24\n",
      "Harrisontown          NJ  17   30210  1       39\n",
      "Durhamtown            NH  17   19700  9        4\n",
      "GlenRockborough       NJ  3    26640  8        6\n",
      "Bluefieldcity         WV  ?    ?      3       25\n",
      "SiouxFallscity        SD  99   59020  9      326\n",
      "Simsburytown          CT  3    68940  3        0\n",
      "Ogdencity             UT  ?    ?      6      254\n",
      "EastLansingcity       MI  65   24120  10      82\n",
      "NewBerlincity         WI  133  56375  10      35\n",
      "Portagecity           MI  77   65560  4       90\n",
      "Burlingtontownship    NJ  5    8950   8       43\n",
      "WestSpringfieldtown   MA  13   77850  8      131\n",
      "GrandTerracecity      CA  ?    ?      2       13\n",
      "Sandwichtown          MA  1    59735  9       84\n",
      "Salinascity           CA  ?    ?      10     844\n",
      "Bakersfieldcity       CA  ?    ?      6     1237\n",
      "Londonderrytown       NH  15   43220  10       6\n",
      "Farmingtontown        CT  3    27600  6        5\n",
      "DePerecity            WI  9    19775  10      24\n",
      "Hendersoncity         NV  ?    ?      2      104\n",
      "PresqueIslecity       ME  3    60825  7        8\n",
      "Palatinevillage       IL  ?    ?      6       39\n",
      "Betheltown            CT  1    4720   9       14\n",
      "                                            ... \n",
      "Waxahachiecity        TX  ?    ?      9       97\n",
      "SanMateocity          CA  ?    ?      8      245\n",
      "EastNorritontownship  PA  91   21600  10       6\n",
      "GrantsPasscity        OR  ?    ?      10       9\n",
      "Bountifulcity         UT  ?    ?      6       36\n",
      "Denvercity            CO  ?    ?      3     2922\n",
      "DesMoinescity         WA  ?    ?      4       27\n",
      "Leominstercity        MA  27   35075  8      115\n",
      "Grahamcity            NC  ?    ?      7      104\n",
      "LakeCharlescity       LA  ?    ?      3      441\n",
      "Missioncity           TX  ?    ?      1       56\n",
      "LakeOswegocity        OR  ?    ?      2       29\n",
      "YubaCitycity          CA  ?    ?      2      141\n",
      "Stoughtontown         MA  21   67945  3       47\n",
      "SantaAnacity          CA  ?    ?      10    1149\n",
      "Alamogordocity        NM  ?    ?      10     128\n",
      "Salemcity             VA  775  70000  3       13\n",
      "YorbaLindacity        CA  ?    ?      4       64\n",
      "Livingstontownship    NJ  13   40890  7       19\n",
      "Uticacity             NY  65   76540  6       65\n",
      "Lackawannacity        NY  29   40189  4      252\n",
      "TwoRiverscity         WI  71   81325  4        4\n",
      "Orindacity            CA  ?    ?      3        2\n",
      "Nanticokecity         PA  79   52584  7       12\n",
      "Elkhartcity           IN  ?    ?      9       43\n",
      "Oconomowoccity        WI  133  59250  3       15\n",
      "Scottsdalecity        AZ  ?    ?      9      234\n",
      "CommerceCitycity      CO  ?    ?      10     230\n",
      "Atwatercity           CA  ?    ?      5      132\n",
      "Aberdeentownship      NJ  25   70     8       27\n",
      "Name: assaults, dtype: int64\n",
      "[  150.37485087    54.24309321  1118.81741521 ...,   313.93287291\n",
      "   100.89746599    28.79558729]\n",
      "Training MSE error & R_2 SCore are 89360.6081878 and 0.980684355349 \n",
      "Test MSE error & R_2 SCore are 317132.447655 and 0.746288275296 \n"
     ]
    }
   ],
   "source": [
    "clf = Pipeline([\n",
    "  ('feature_selection', SelectKBest(k=116, score_func=f_regression)),\n",
    "  ('regression', LinearRegression())\n",
    "])\n",
    "\n",
    "goal_feature = 'assaults'\n",
    "\n",
    "goal_df = drop_rows_with_null_goal_feature(df, goal_feature)\n",
    "goal_df[[goal_feature]] = goal_df[[goal_feature]].apply(pd.to_numeric)\n",
    "#goal_df = goal_df[goal_df.murders <= goal_df.murders.quantile(0.70)]\n",
    "print len(goal_df)\n",
    "#print goal_df.describe()\n",
    "imr = Imputer(missing_values='NaN', strategy='mean', axis=0)\n",
    "imr = imr.fit(goal_df[features])\n",
    "imputed_data = imr.transform(goal_df[features]);\n",
    "\n",
    "df_X_train, df_X_test, df_y_train, df_y_test = \\\n",
    "        train_test_split(imputed_data, goal_df[goal_feature], test_size=0.2)\n",
    "\n",
    "\n",
    "mse_cv = cross_val_score(estimator = clf, X=df_X_train, y=df_y_train, scoring='neg_mean_squared_error')\n",
    "r2_cv = cross_val_score(estimator=clf, X=df_X_train, y=df_y_train, scoring='r2')\n",
    "\n",
    "print \"Cross Validation Score MSE and R_2 are {0} and {1}\".format(mse_cv.mean(), r2_cv.mean())\n",
    "clf.fit(df_X_train, df_y_train)\n",
    "\n",
    "\n",
    "mse_train = mean_squared_error(df_y_train, clf.predict(df_X_train))\n",
    "r2_train = r2_score(df_y_train, clf.predict(df_X_train))\n",
    "\n",
    "print df_y_train \n",
    "\n",
    "print clf.predict(df_X_train)\n",
    "\n",
    "print \"Training MSE error & R_2 SCore are {0} and {1} \".format(mse_train,  r2_train)\n",
    "\n",
    "mse = mean_squared_error(df_y_test, clf.predict(df_X_test))\n",
    "r2_sc = r2_score(df_y_test, clf.predict(df_X_test))\n",
    "print \"Test MSE error & R_2 SCore are {0} and {1} \".format(mse,  r2_sc)"
   ]
  },
  {
   "cell_type": "code",
   "execution_count": null,
   "metadata": {
    "collapsed": false,
    "deletable": true,
    "editable": true
   },
   "outputs": [],
   "source": []
  },
  {
   "cell_type": "code",
   "execution_count": null,
   "metadata": {
    "collapsed": false,
    "deletable": true,
    "editable": true
   },
   "outputs": [],
   "source": [
    "clf.predict(df_X_test)"
   ]
  },
  {
   "cell_type": "code",
   "execution_count": null,
   "metadata": {
    "collapsed": true,
    "deletable": true,
    "editable": true
   },
   "outputs": [],
   "source": []
  }
 ],
 "metadata": {
  "kernelspec": {
   "display_name": "Python 2",
   "language": "python",
   "name": "python2"
  },
  "language_info": {
   "codemirror_mode": {
    "name": "ipython",
    "version": 2
   },
   "file_extension": ".py",
   "mimetype": "text/x-python",
   "name": "python",
   "nbconvert_exporter": "python",
   "pygments_lexer": "ipython2",
   "version": "2.7.12"
  }
 },
 "nbformat": 4,
 "nbformat_minor": 2
}
