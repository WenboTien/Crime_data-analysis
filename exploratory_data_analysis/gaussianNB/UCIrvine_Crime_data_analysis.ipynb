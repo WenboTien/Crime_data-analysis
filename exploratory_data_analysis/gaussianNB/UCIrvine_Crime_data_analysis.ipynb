{
 "cells": [
  {
   "cell_type": "code",
   "execution_count": 7,
   "metadata": {
    "collapsed": false,
    "deletable": true,
    "editable": true
   },
   "outputs": [
    {
     "name": "stdout",
     "output_type": "stream",
     "text": [
      "Populating the interactive namespace from numpy and matplotlib\n"
     ]
    }
   ],
   "source": [
    "%pylab inline"
   ]
  },
  {
   "cell_type": "code",
   "execution_count": 8,
   "metadata": {
    "collapsed": false,
    "deletable": true,
    "editable": true,
    "scrolled": true
   },
   "outputs": [
    {
     "name": "stdout",
     "output_type": "stream",
     "text": [
      "The scikit-learn version is 0.18.1.\n",
      "The pandas version is 0.19.2.\n",
      "The numpy version is 1.12.0.\n"
     ]
    }
   ],
   "source": [
    "import numpy as np\n",
    "import matplotlib.pyplot as plt\n",
    "import pandas as pd\n",
    "import sklearn\n",
    "import csv\n",
    "\n",
    "from scipy import stats, optimize\n",
    "from sklearn.preprocessing import Imputer\n",
    "from sklearn.naive_bayes import GaussianNB\n",
    "from sklearn.pipeline import Pipeline\n",
    "\n",
    "from sklearn.base import clone\n",
    "from itertools import combinations\n",
    "from sklearn.metrics import explained_variance_score, r2_score, median_absolute_error\n",
    "from sklearn.model_selection import cross_val_score\n",
    "import subprocess\n",
    "\n",
    "print('The scikit-learn version is {}.'.format(sklearn.__version__))\n",
    "print('The pandas version is {}.'.format(pd.__version__))\n",
    "print('The numpy version is {}.'.format(np.__version__))"
   ]
  },
  {
   "cell_type": "markdown",
   "metadata": {
    "deletable": true,
    "editable": true
   },
   "source": [
    "# Read the CSV \n",
    "We use pandas `read_csv(path/to/csv)` method to read the csv file. Next, replace the missing values with `np.NaN` i.e. Not a Number. This way we can count the number of missing values per column.\n",
    "\n",
    "The dataset as described on UC Irvine repo.\n",
    "(125 predictive, 4 non-predictive, 18 potential goal) \n",
    "\n",
    "We remove the features which are final goals and some other irrelevant features. For example the following attribute is to be predicted.\n",
    "murdPerPop: number of murders per 100K population (numeric - decimal) potential GOAL attribute (to be predicted) "
   ]
  },
  {
   "cell_type": "code",
   "execution_count": 66,
   "metadata": {
    "collapsed": false,
    "deletable": true,
    "editable": true,
    "scrolled": true
   },
   "outputs": [],
   "source": [
    "df = pd.read_csv('../../datasets/UCIrvineCrimeData.csv');\n",
    "df = df.replace('?',np.NAN)\n",
    "features = [x for x in df.columns if x not in ['fold', 'state', 'community', 'communityname', 'county'\n",
    "                                               ,'ViolentCrimesPerPop']]\n",
    "#write to csv file for preprocessing of mrmr\n",
    "with open('../../datasets/test.csv', \"wb\") as csv_file:\n",
    "    writer = csv.writer(csv_file, delimiter=',')\n",
    "    writer.writerow((features))"
   ]
  },
  {
   "cell_type": "markdown",
   "metadata": {
    "deletable": true,
    "editable": true
   },
   "source": [
    "# Find the number of missing values in every column"
   ]
  },
  {
   "cell_type": "markdown",
   "metadata": {
    "deletable": true,
    "editable": true
   },
   "source": [
    "# Imputing missing values"
   ]
  },
  {
   "cell_type": "markdown",
   "metadata": {
    "deletable": true,
    "editable": true
   },
   "source": [
    "Often, the removal of samples or dropping of entire feature columns is simply not feasible, because we might lost too much valuable data. In this case, we can use different interpolation techniques to estimate the missing values from the othere training samples in our dataset. One of the most common interpolation technique is mean interpolation, where we simply replace the missing value by the mean value of the entire feature column. A convenient way to achieve this is using the `Imputer` class from the `scikit-learn` as shown in the following code."
   ]
  },
  {
   "cell_type": "code",
   "execution_count": 17,
   "metadata": {
    "collapsed": false,
    "deletable": true,
    "editable": true,
    "scrolled": true
   },
   "outputs": [],
   "source": [
    "imr = Imputer(missing_values='NaN', strategy='mean', axis=0)\n",
    "imr = imr.fit(df[features])\n",
    "imputed_data = imr.transform(df[features]);\n",
    "with open('../../datasets/test.csv', \"a\") as csv_file:\n",
    "    writer = csv.writer(csv_file, delimiter=',')\n",
    "    for line in imputed_data:\n",
    "        writer.writerow(line)"
   ]
  },
  {
   "cell_type": "markdown",
   "metadata": {
    "deletable": true,
    "editable": true
   },
   "source": [
    "# Sklearn fundamentals "
   ]
  },
  {
   "cell_type": "markdown",
   "metadata": {
    "deletable": true,
    "editable": true
   },
   "source": [
    "A convenient way to randomly partition the dataset into a separate test & training dataset is to use the `train_test_split` function from `scikit-learn's` `cross_validation` submodule. As of now, the target variable is ''"
   ]
  },
  {
   "cell_type": "code",
   "execution_count": 51,
   "metadata": {
    "collapsed": false,
    "deletable": true,
    "editable": true,
    "scrolled": false
   },
   "outputs": [],
   "source": [
    "#df = df.drop([\"communityname\", \"state\", \"county\", \"community\"], axis=1)\n",
    "X, y = imputed_data, df['ViolentCrimesPerPop']\n",
    "#X_train, X_test, y_train, y_test = train_test_split(X, y, test_size=0.3, random_state=0);\n",
    "#y_train = y_train*100\n",
    "#y_train.astype(np.int64)\n",
    "y = y*100\n",
    "y = y.astype(np.int64)\n",
    "y_train = []\n",
    "for i in y:\n",
    "    if i<33:\n",
    "        y_train.append(0)\n",
    "    elif i<66:\n",
    "        y_train.append(1)\n",
    "    else:\n",
    "        y_train.append(2)"
   ]
  },
  {
   "cell_type": "markdown",
   "metadata": {},
   "source": [
    "we have 100 class labels from 1% to 100%. I group them into three groups for following reasons. First of all, too much class labels will reduce the accuracy of our classifier. Besides, it is irreasonable to have much class labels, there is no big difference between 33% and 34%. So we can group them into three levels to represent low, medium and high."
   ]
  },
  {
   "cell_type": "code",
   "execution_count": 74,
   "metadata": {
    "collapsed": false,
    "deletable": true,
    "editable": true,
    "scrolled": true
   },
   "outputs": [],
   "source": [
    "clf = GaussianNB()\n",
    "X = np.array(X)\n",
    "scoring = []\n",
    "selected_features = []\n",
    "for i in range(2,100):\n",
    "    #use mrmr do feature selection\n",
    "    answer = subprocess.check_output(['./mrmr.sh',str(i+1)])\n",
    "    answer = answer[:-1]\n",
    "    answer = answer.split(',')\n",
    "    answer = [int(i) for i in answer]\n",
    "    #obtain samples with selected features\n",
    "    x_train = X[:,answer]\n",
    "    #do 10 folder cross validation\n",
    "    scores = cross_val_score(clf, x_train, y_train, cv=10)\n",
    "    scoring.append(scores.mean())\n",
    "    selected_features.append(answer)"
   ]
  },
  {
   "cell_type": "code",
   "execution_count": 75,
   "metadata": {
    "collapsed": false,
    "deletable": true,
    "editable": true,
    "scrolled": true
   },
   "outputs": [
    {
     "data": {
      "image/png": "[encoded data removed]",
      "text/plain": [
       "<matplotlib.figure.Figure at 0x6761350>"
      ]
     },
     "metadata": {},
     "output_type": "display_data"
    }
   ],
   "source": [
    "k_feat = range(2,100)\n",
    "plt.plot(k_feat, scoring, marker='o')\n",
    "plt.ylim([0.7, 0.9])\n",
    "plt.ylabel('Accuracy')\n",
    "plt.xlabel('Number of Features')\n",
    "plt.grid()\n",
    "plt.show()"
   ]
  },
  {
   "cell_type": "code",
   "execution_count": 76,
   "metadata": {
    "collapsed": false,
    "scrolled": false
   },
   "outputs": [],
   "source": [
    "best = np.argmax(scoring)"
   ]
  },
  {
   "cell_type": "code",
   "execution_count": 78,
   "metadata": {
    "collapsed": false
   },
   "outputs": [
    {
     "name": "stdout",
     "output_type": "stream",
     "text": [
      "['numbUrban', 'NumInShelters']\n"
     ]
    }
   ],
   "source": [
    "features_indices = selected_features[best]\n",
    "selected = [features[x] for x in features_indices]\n",
    "print selected"
   ]
  }
 ],
 "metadata": {
  "kernelspec": {
   "display_name": "Python 2",
   "language": "python",
   "name": "python2"
  },
  "language_info": {
   "codemirror_mode": {
    "name": "ipython",
    "version": 2
   },
   "file_extension": ".py",
   "mimetype": "text/x-python",
   "name": "python",
   "nbconvert_exporter": "python",
   "pygments_lexer": "ipython2",
   "version": "2.7.3"
  }
 },
 "nbformat": 4,
 "nbformat_minor": 1
}
