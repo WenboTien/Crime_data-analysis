{
 "cells": [
  {
   "cell_type": "code",
   "execution_count": 10,
   "metadata": {
    "collapsed": true
   },
   "outputs": [],
   "source": [
    "import sklearn\n",
    "import pandas\n",
    "import numpy as np\n",
    "from sklearn import linear_model\n",
    "# reg = linear_model.LinearRegression()\n",
    "from sklearn import svm"
   ]
  },
  {
   "cell_type": "code",
   "execution_count": 14,
   "metadata": {
    "collapsed": false
   },
   "outputs": [],
   "source": [
    "clf = svm.SVR(C=1.0, epsilon=0.2)\n",
    "dataframe = pandas.read_csv('../datasets/UCIrvineCrimeData.csv')"
   ]
  },
  {
   "cell_type": "markdown",
   "metadata": {},
   "source": [
    "# Cleaning the data"
   ]
  },
  {
   "cell_type": "code",
   "execution_count": 18,
   "metadata": {
    "collapsed": false
   },
   "outputs": [],
   "source": [
    "\n",
    "dataframe = dataframe.replace('?',np.NAN)\n",
    "dict1 = dataframe.isnull().sum().to_dict()\n",
    "non_zero = []\n",
    "for a in dict1.keys():\n",
    "\tif dict1[a] > 100:\n",
    "# \t\tprint a\n",
    "# \t\tprint dict1[a]\n",
    "\t\tnon_zero.append(a)\n",
    "\n",
    "# print non_zero\n",
    "for elem in non_zero:\n",
    "\tdel dataframe[elem]\n",
    "\n",
    "# Perhaps its better to remove this row.\n",
    "# No reason in removing whole column.\n",
    "dataframe= dataframe.dropna()\n",
    "cols  = list(dataframe.columns.values)\n",
    "\n",
    "cols = [ x for x in cols if x not in ['fold', 'state', 'community', 'communityname', 'county'\n",
    "                                               ,'ViolentCrimesPerPop']]\n",
    "\n"
   ]
  },
  {
   "cell_type": "markdown",
   "metadata": {},
   "source": [
    "## Getting Training Data and Training Labels. (Training = 2/3, Test=1/3)"
   ]
  },
  {
   "cell_type": "code",
   "execution_count": 21,
   "metadata": {
    "collapsed": false
   },
   "outputs": [],
   "source": [
    "X = dataframe[list(cols)].values\n",
    "total_val = len(dataframe['ViolentCrimesPerPop'].values)\n",
    "percent = 2/float(3)\n",
    "edge_val = int(total_val*percent)\n",
    "# print\n",
    "# print reg.fit(X, dataframe[cols[-1]].values)\n",
    "Y = np.asarray(dataframe['ViolentCrimesPerPop'].values, dtype=\"|S6\")\n",
    "\n"
   ]
  },
  {
   "cell_type": "markdown",
   "metadata": {},
   "source": [
    "# Performing Regression"
   ]
  },
  {
   "cell_type": "code",
   "execution_count": 22,
   "metadata": {
    "collapsed": false
   },
   "outputs": [
    {
     "data": {
      "text/plain": [
       "SVR(C=1.0, cache_size=200, coef0=0.0, degree=3, epsilon=0.2, gamma='auto',\n",
       "  kernel='rbf', max_iter=-1, shrinking=True, tol=0.001, verbose=False)"
      ]
     },
     "execution_count": 22,
     "metadata": {},
     "output_type": "execute_result"
    }
   ],
   "source": [
    "clf.fit(X[:edge_val], Y[:edge_val])"
   ]
  },
  {
   "cell_type": "markdown",
   "metadata": {},
   "source": [
    "# Predicting on Test Values"
   ]
  },
  {
   "cell_type": "code",
   "execution_count": 23,
   "metadata": {
    "collapsed": true
   },
   "outputs": [],
   "source": [
    "Y_predict = clf.predict(X[edge_val:])"
   ]
  },
  {
   "cell_type": "markdown",
   "metadata": {},
   "source": [
    "# Calculating Error of Estimate"
   ]
  },
  {
   "cell_type": "code",
   "execution_count": 25,
   "metadata": {
    "collapsed": false
   },
   "outputs": [
    {
     "name": "stdout",
     "output_type": "stream",
     "text": [
      "total error\n",
      "0.0196381998509\n"
     ]
    }
   ],
   "source": [
    "total_error = 0\n",
    "for i in xrange(edge_val, total_val):\n",
    "\ttotal_error += (float(Y[i]) - Y_predict[i-edge_val])**2\n",
    "\n",
    "print \"total error\"\n",
    "print total_error/float(total_val- edge_val)"
   ]
  }
 ],
 "metadata": {
  "kernelspec": {
   "display_name": "Python 2",
   "language": "python",
   "name": "python2"
  },
  "language_info": {
   "codemirror_mode": {
    "name": "ipython",
    "version": 2
   },
   "file_extension": ".py",
   "mimetype": "text/x-python",
   "name": "python",
   "nbconvert_exporter": "python",
   "pygments_lexer": "ipython2",
   "version": "2.7.6"
  }
 },
 "nbformat": 4,
 "nbformat_minor": 2
}
