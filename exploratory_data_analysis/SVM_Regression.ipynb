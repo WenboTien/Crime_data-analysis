{
 "cells": [
  {
   "cell_type": "code",
   "execution_count": 45,
   "metadata": {
    "collapsed": true,
    "deletable": true,
    "editable": true
   },
   "outputs": [],
   "source": [
    "import sklearn\n",
    "import pandas\n",
    "import numpy as np\n",
    "from sklearn import linear_model\n",
    "reg = linear_model.LinearRegression()\n",
    "reg1 = linear_model.BayesianRidge()\n",
    "reg2 = linear_model.RANSACRegressor()\n",
    "reg3 = linear_model.LassoLars(alpha=.1)\n",
    "reg4 = linear_model.RidgeCV(alphas=[0.1, 1.0, 10.0])\n",
    "reg5 = linear_model.ElasticNetCV()\n",
    "reg6 = linear_model.SGDRegressor()\n",
    "reg7 = linear_model.PassiveAggressiveRegressor()\n",
    "from sklearn import svm"
   ]
  },
  {
   "cell_type": "code",
   "execution_count": 37,
   "metadata": {
    "collapsed": false,
    "deletable": true,
    "editable": true
   },
   "outputs": [],
   "source": [
    "clf = svm.SVR(C=1.0, epsilon=0.2)\n",
    "dataframe = pandas.read_csv('../datasets/UCIrvineCrimeData.csv')"
   ]
  },
  {
   "cell_type": "markdown",
   "metadata": {
    "deletable": true,
    "editable": true
   },
   "source": [
    "# Cleaning the data"
   ]
  },
  {
   "cell_type": "code",
   "execution_count": 26,
   "metadata": {
    "collapsed": false,
    "deletable": true,
    "editable": true
   },
   "outputs": [],
   "source": [
    "\n",
    "dataframe = dataframe.replace('?',np.NAN)\n",
    "dict1 = dataframe.isnull().sum().to_dict()\n",
    "non_zero = []\n",
    "for a in dict1.keys():\n",
    "\tif dict1[a] > 100:\n",
    "# \t\tprint a\n",
    "# \t\tprint dict1[a]\n",
    "\t\tnon_zero.append(a)\n",
    "\n",
    "# print non_zero\n",
    "for elem in non_zero:\n",
    "\tdel dataframe[elem]\n",
    "\n",
    "# Perhaps its better to remove this row.\n",
    "# No reason in removing whole column.\n",
    "dataframe= dataframe.dropna()\n",
    "cols  = list(dataframe.columns.values)\n",
    "\n",
    "cols = [ x for x in cols if x not in ['fold', 'state', 'community', 'communityname', 'county'\n",
    "                                               ,'ViolentCrimesPerPop']]\n",
    "\n"
   ]
  },
  {
   "cell_type": "markdown",
   "metadata": {
    "deletable": true,
    "editable": true
   },
   "source": [
    "## Getting Training Data and Training Labels. (Training = 2/3, Test=1/3)"
   ]
  },
  {
   "cell_type": "code",
   "execution_count": 27,
   "metadata": {
    "collapsed": false,
    "deletable": true,
    "editable": true
   },
   "outputs": [
    {
     "name": "stdout",
     "output_type": "stream",
     "text": [
      "[ 0.2   0.67  0.43 ...,  0.23  0.19  0.48]\n"
     ]
    }
   ],
   "source": [
    "X = dataframe[list(cols)].values\n",
    "total_val = len(dataframe['ViolentCrimesPerPop'].values)\n",
    "percent = 2/float(3)\n",
    "edge_val = int(total_val*percent)\n",
    "# print\n",
    "# print reg.fit(X, dataframe[cols[-1]].values)\n",
    "Y = np.asarray(dataframe['ViolentCrimesPerPop'].values)\n",
    "print Y\n",
    "\n",
    "\n"
   ]
  },
  {
   "cell_type": "markdown",
   "metadata": {
    "deletable": true,
    "editable": true
   },
   "source": [
    "# Performing Regression"
   ]
  },
  {
   "cell_type": "code",
   "execution_count": 47,
   "metadata": {
    "collapsed": false,
    "deletable": true,
    "editable": true
   },
   "outputs": [
    {
     "data": {
      "text/plain": [
       "PassiveAggressiveRegressor(C=1.0, epsilon=0.1, fit_intercept=True,\n",
       "              loss='epsilon_insensitive', n_iter=5, random_state=None,\n",
       "              shuffle=True, verbose=0, warm_start=False)"
      ]
     },
     "execution_count": 47,
     "metadata": {},
     "output_type": "execute_result"
    }
   ],
   "source": [
    "clf.fit(X[:edge_val], Y[:edge_val])\n",
    "reg.fit(X[:edge_val], Y[:edge_val])\n",
    "reg1.fit(X[:edge_val], Y[:edge_val])\n",
    "reg2.fit(X[:edge_val], Y[:edge_val])\n",
    "reg3.fit(X[:edge_val], Y[:edge_val])\n",
    "reg4.fit(X[:edge_val], Y[:edge_val])\n",
    "reg5.fit(X[:edge_val], Y[:edge_val])\n",
    "reg6.fit(X[:edge_val], Y[:edge_val])\n",
    "reg7.fit(X[:edge_val], Y[:edge_val])"
   ]
  },
  {
   "cell_type": "markdown",
   "metadata": {
    "deletable": true,
    "editable": true
   },
   "source": [
    "# Predicting on Test Values"
   ]
  },
  {
   "cell_type": "code",
   "execution_count": 48,
   "metadata": {
    "collapsed": true,
    "deletable": true,
    "editable": true
   },
   "outputs": [],
   "source": [
    "Y_predict = clf.predict(X[edge_val:])\n",
    "Y_predict_0 = reg.predict(X[edge_val:])\n",
    "Y_predict_1 = reg1.predict(X[edge_val:])\n",
    "Y_predict_2 = reg2.predict(X[edge_val:])\n",
    "Y_predict_3 = reg3.predict(X[edge_val:])\n",
    "Y_predict_4 = reg4.predict(X[edge_val:])\n",
    "Y_predict_5 = reg5.predict(X[edge_val:])\n",
    "Y_predict_6 = reg6.predict(X[edge_val:])\n",
    "Y_predict_7 = reg7.predict(X[edge_val:])"
   ]
  },
  {
   "cell_type": "markdown",
   "metadata": {
    "deletable": true,
    "editable": true
   },
   "source": [
    "# Calculating Error of Estimate"
   ]
  },
  {
   "cell_type": "code",
   "execution_count": 49,
   "metadata": {
    "collapsed": false,
    "deletable": true,
    "editable": true
   },
   "outputs": [
    {
     "name": "stdout",
     "output_type": "stream",
     "text": [
      "total error\n",
      "0.0196381998509\n",
      "total error_0\n",
      "0.0174042066813\n",
      "total error_1\n",
      "0.0168696447732\n",
      "total error_2\n",
      "0.14418721951\n",
      "total error_3\n",
      "0.0461943554138\n",
      "total error_4\n",
      "0.0169942983177\n",
      "total error_5\n",
      "0.0169623080528\n",
      "total error_6\n",
      "0.0174486958431\n",
      "total error_7\n",
      "0.0443580011261\n"
     ]
    }
   ],
   "source": [
    "total_error = 0\n",
    "total_error_0 = 0\n",
    "total_error_1 = 0\n",
    "total_error_2 = 0\n",
    "total_error_3 = 0\n",
    "total_error_4 = 0\n",
    "total_error_5 = 0\n",
    "total_error_6 = 0\n",
    "total_error_7 = 0\n",
    "\n",
    "for i in xrange(edge_val, total_val):\n",
    "    total_error += (float(Y[i]) - Y_predict[i-edge_val])**2\n",
    "    total_error_0 += (float(Y[i]) - Y_predict_0[i-edge_val])**2\n",
    "    total_error_1 += (float(Y[i]) - Y_predict_1[i-edge_val])**2\n",
    "    total_error_2 += (float(Y[i]) - Y_predict_2[i-edge_val])**2\n",
    "    total_error_3 += (float(Y[i]) - Y_predict_3[i-edge_val])**2\n",
    "    total_error_4 += (float(Y[i]) - Y_predict_4[i-edge_val])**2\n",
    "    total_error_5 += (float(Y[i]) - Y_predict_5[i-edge_val])**2\n",
    "    total_error_6 += (float(Y[i]) - Y_predict_6[i-edge_val])**2\n",
    "    total_error_7 += (float(Y[i]) - Y_predict_7[i-edge_val])**2\n",
    "    \n",
    "\n",
    "\n",
    "print \"total error\"\n",
    "print total_error/float(total_val- edge_val)\n",
    "\n",
    "print \"total error_0\"\n",
    "print total_error_0/float(total_val- edge_val)\n",
    "print \"total error_1\"\n",
    "print total_error_1/float(total_val- edge_val)\n",
    "print \"total error_2\"\n",
    "print total_error_2/float(total_val- edge_val)\n",
    "print \"total error_3\"\n",
    "print total_error_3/float(total_val- edge_val)\n",
    "print \"total error_4\"\n",
    "print total_error_4/float(total_val- edge_val)\n",
    "print \"total error_5\"\n",
    "print total_error_5/float(total_val- edge_val)\n",
    "print \"total error_6\"\n",
    "print total_error_6/float(total_val- edge_val)\n",
    "print \"total error_7\"\n",
    "print total_error_7/float(total_val- edge_val)\n"
   ]
  },
  {
   "cell_type": "code",
   "execution_count": null,
   "metadata": {
    "collapsed": true,
    "deletable": true,
    "editable": true
   },
   "outputs": [],
   "source": []
  }
 ],
 "metadata": {
  "kernelspec": {
   "display_name": "Python 2",
   "language": "python",
   "name": "python2"
  },
  "language_info": {
   "codemirror_mode": {
    "name": "ipython",
    "version": 2
   },
   "file_extension": ".py",
   "mimetype": "text/x-python",
   "name": "python",
   "nbconvert_exporter": "python",
   "pygments_lexer": "ipython2",
   "version": "2.7.6"
  }
 },
 "nbformat": 4,
 "nbformat_minor": 2
}
