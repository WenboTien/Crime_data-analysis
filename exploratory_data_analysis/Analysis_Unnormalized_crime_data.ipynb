{
 "cells": [
  {
   "cell_type": "code",
   "execution_count": 1,
   "metadata": {
    "collapsed": false
   },
   "outputs": [
    {
     "name": "stdout",
     "output_type": "stream",
     "text": [
      "Populating the interactive namespace from numpy and matplotlib\n"
     ]
    }
   ],
   "source": [
    "%pylab inline"
   ]
  },
  {
   "cell_type": "markdown",
   "metadata": {},
   "source": [
    "# Communities & Crime Un-normalized dataset\n",
    "\n",
    "Communities in the US. Data combines socio-economic data from the '90 Census, law enforcement data from the 1990 Law Enforcement Management and Admin Stats survey, and crime data from the 1995 FBI UCR\n",
    "\n",
    "This dataset consists of 2215 instances of crimes that has been reported from across all the states in the United States of America\n",
    "\n",
    "Total number of features  = 147\n",
    "\n",
    "<br/>\n",
    "5 - Non-predictive features\n",
    "\n",
    "-- communityname: Community name - not predictive - for information only (string) \n",
    "<br/>\n",
    "-- state: US state (by 2 letter postal abbreviation)(nominal) \n",
    "<br/>\n",
    "-- countyCode: numeric code for county - not predictive, and many missing values (numeric) \n",
    "<br/>\n",
    "-- communityCode: numeric code for community - not predictive and many missing values (numeric) \n",
    "<br/>\n",
    "-- fold: fold number for non-random 10 fold cross validation, potentially useful for debugging, paired tests - not predictive (numeric - integer) \n",
    "<br/>\n",
    "\n",
    "124 - Predictive features : More details on these can be found [here](https://archive.ics.uci.edu/ml/datasets/Communities+and+Crime+Unnormalized)\n",
    "<br/>\n",
    "\n",
    "18 potential goal features which are listed below"
   ]
  },
  {
   "cell_type": "markdown",
   "metadata": {},
   "source": [
    "## Potential Goal features : To be predicted\n",
    "\n",
    "-- murders: number of murders in 1995 (numeric - expected to be integer) potential GOAL attribute (to be predicted)\n",
    "<br />\n",
    "-- murdPerPop: number of murders per 100K population (numeric - decimal) potential GOAL attribute (to be predicted)\n",
    "<br />\n",
    "-- rapes: number of rapes in 1995 (numeric - expected to be integer) potential GOAL attribute (to be predicted) \n",
    "<br />\n",
    "-- rapesPerPop: number of rapes per 100K population (numeric - decimal) potential GOAL attribute (to be predicted) \n",
    "<br />\n",
    "-- robberies: number of robberies in 1995 (numeric - expected to be integer) potential GOAL attribute (to be predicted) \n",
    "<br />\n",
    "-- robbbPerPop: number of robberies per 100K population (numeric - decimal) potential GOAL attribute (to be predicted) \n",
    "<br />\n",
    "-- assaults: number of assaults in 1995 (numeric - expected to be integer) potential GOAL attribute (to be predicted) \n",
    "<br />\n",
    "-- assaultPerPop: number of assaults per 100K population (numeric - decimal) potential GOAL attribute (to be predicted) \n",
    "<br />\n",
    "-- burglaries: number of burglaries in 1995 (numeric - expected to be integer) potential GOAL attribute (to be predicted) \n",
    "<br />\n",
    "-- burglPerPop: number of burglaries per 100K population (numeric - decimal) potential GOAL attribute (to be predicted) \n",
    "<br />\n",
    "-- larcenies: number of larcenies in 1995 (numeric - expected to be integer) potential GOAL attribute (to be predicted) \n",
    "<br />\n",
    "-- larcPerPop: number of larcenies per 100K population (numeric - decimal) potential GOAL attribute (to be predicted) \n",
    "<br />\n",
    "-- autoTheft: number of auto thefts in 1995 (numeric - expected to be integer) potential GOAL attribute (to be predicted) \n",
    "<br />\n",
    "-- autoTheftPerPop: number of auto thefts per 100K population (numeric - decimal) potential GOAL attribute (to be predicted) \n",
    "<br />\n",
    "-- arsons: number of arsons in 1995 (numeric - expected to be integer) potential GOAL attribute (to be predicted) \n",
    "<br />\n",
    "-- arsonsPerPop: number of arsons per 100K population (numeric - decimal) potential GOAL attribute (to be predicted) \n",
    "<br />\n",
    "-- ViolentCrimesPerPop: total number of violent crimes per 100K popuation (numeric - decimal) GOAL attribute (to be predicted) \n",
    "<br />\n",
    "-- nonViolPerPop: total number of non-violent crimes per 100K popuation (numeric - decimal) potential GOAL attribute (to be predicted) \n",
    "<br />"
   ]
  },
  {
   "cell_type": "code",
   "execution_count": 2,
   "metadata": {
    "collapsed": false
   },
   "outputs": [
    {
     "name": "stdout",
     "output_type": "stream",
     "text": [
      "The scikit-learn version is 0.18.1.\n",
      "The pandas version is 0.19.2.\n",
      "The numpy version is 1.12.0.\n"
     ]
    },
    {
     "name": "stderr",
     "output_type": "stream",
     "text": [
      "/usr/local/lib/python2.7/dist-packages/sklearn/cross_validation.py:44: DeprecationWarning: This module was deprecated in version 0.18 in favor of the model_selection module into which all the refactored classes and functions are moved. Also note that the interface of the new CV iterators are different from that of this module. This module will be removed in 0.20.\n",
      "  \"This module will be removed in 0.20.\", DeprecationWarning)\n"
     ]
    }
   ],
   "source": [
    "import numpy as np\n",
    "import matplotlib.pyplot as plt\n",
    "import pandas as pd\n",
    "import sklearn\n",
    "\n",
    "from scipy import stats, optimize\n",
    "from sklearn.preprocessing import Imputer\n",
    "from sklearn.cross_validation import train_test_split\n",
    "from sklearn.linear_model import Lasso, LinearRegression, Ridge\n",
    "from sklearn.pipeline import Pipeline\n",
    "\n",
    "from sklearn.base import clone\n",
    "from itertools import combinations\n",
    "from sklearn.metrics import explained_variance_score, r2_score, median_absolute_error\n",
    "\n",
    "print('The scikit-learn version is {}.'.format(sklearn.__version__))\n",
    "print('The pandas version is {}.'.format(pd.__version__))\n",
    "print('The numpy version is {}.'.format(np.__version__))"
   ]
  },
  {
   "cell_type": "code",
   "execution_count": 15,
   "metadata": {
    "collapsed": true
   },
   "outputs": [],
   "source": [
    "goal_features = ['murders', 'murdPerPop', 'rapes', 'rapesPerPop', 'robberies','robbbPerPop',\n",
    "                 'assaults', 'assaultPerPop', 'burglaries', 'burglPerPop', 'larcenies', 'larcPerPop',\n",
    "                 'autoTheft', 'autoTheftPerPop', 'arsons', 'arsonsPerPop', 'violentPerPop', 'nonViolPerPop']\n",
    "\n",
    "non_predictive_features = ['communityname', 'state', 'countyCode', 'communityCode', 'fold']"
   ]
  },
  {
   "cell_type": "code",
   "execution_count": 19,
   "metadata": {
    "collapsed": false
   },
   "outputs": [
    {
     "data": {
      "text/plain": [
       "124"
      ]
     },
     "execution_count": 19,
     "metadata": {},
     "output_type": "execute_result"
    }
   ],
   "source": [
    "df = pd.read_csv('../datasets/UCIrvineUnnormalizeddata.csv');\n",
    "df = df.replace('?',np.NAN)\n",
    "features = [x for x in df.columns if x not in goal_features and x not in non_predictive_features]\n",
    "len(features)"
   ]
  },
  {
   "cell_type": "code",
   "execution_count": 17,
   "metadata": {
    "collapsed": false
   },
   "outputs": [
    {
     "data": {
      "text/plain": [
       "murders              0\n",
       "murdPerPop           0\n",
       "rapes              208\n",
       "rapesPerPop        208\n",
       "robberies            1\n",
       "robbbPerPop          1\n",
       "assaults            13\n",
       "assaultPerPop       13\n",
       "burglaries           3\n",
       "burglPerPop          3\n",
       "larcenies            3\n",
       "larcPerPop           3\n",
       "autoTheft            3\n",
       "autoTheftPerPop      3\n",
       "arsons              91\n",
       "arsonsPerPop        91\n",
       "violentPerPop      221\n",
       "nonViolPerPop       97\n",
       "dtype: int64"
      ]
     },
     "execution_count": 17,
     "metadata": {},
     "output_type": "execute_result"
    }
   ],
   "source": [
    "df[goal_features].isnull().sum()"
   ]
  },
  {
   "cell_type": "code",
   "execution_count": 18,
   "metadata": {
    "collapsed": false
   },
   "outputs": [
    {
     "data": {
      "text/plain": [
       "pop                     0\n",
       "perHoush                0\n",
       "pctBlack                0\n",
       "pctWhite                0\n",
       "pctAsian                0\n",
       "pctHisp                 0\n",
       "pct12-21                0\n",
       "pct12-29                0\n",
       "pct16-24                0\n",
       "pct65up                 0\n",
       "persUrban               0\n",
       "pctUrban                0\n",
       "medIncome               0\n",
       "pctWwage                0\n",
       "pctWfarm                0\n",
       "pctWdiv                 0\n",
       "pctWsocsec              0\n",
       "pctPubAsst              0\n",
       "pctRetire               0\n",
       "medFamIncome            0\n",
       "perCapInc               0\n",
       "whitePerCap             0\n",
       "blackPerCap             0\n",
       "NAperCap                0\n",
       "asianPerCap             0\n",
       "otherPerCap             1\n",
       "hispPerCap              0\n",
       "persPoverty             0\n",
       "pctPoverty              0\n",
       "pctLowEdu               0\n",
       "                     ... \n",
       "pctBornStateResid       0\n",
       "pctSameHouse-5          0\n",
       "pctSameCounty-5         0\n",
       "pctSameState-5          0\n",
       "numPolice            1872\n",
       "policePerPop         1872\n",
       "policeField          1872\n",
       "policeFieldPerPop    1872\n",
       "policeCalls          1872\n",
       "policCallPerPop      1872\n",
       "policCallPerOffic    1872\n",
       "policePerPop2        1872\n",
       "racialMatch          1872\n",
       "pctPolicWhite        1872\n",
       "pctPolicBlack        1872\n",
       "pctPolicHisp         1872\n",
       "pctPolicAsian        1872\n",
       "pctPolicMinority     1872\n",
       "officDrugUnits       1872\n",
       "numDiffDrugsSeiz     1872\n",
       "policAveOT           1872\n",
       "landArea                0\n",
       "popDensity              0\n",
       "pctUsePubTrans          0\n",
       "policCarsAvail       1872\n",
       "policOperBudget      1872\n",
       "pctPolicPatrol       1872\n",
       "gangUnit             1872\n",
       "pctOfficDrugUnit        0\n",
       "policBudgetPerPop    1872\n",
       "dtype: int64"
      ]
     },
     "execution_count": 18,
     "metadata": {},
     "output_type": "execute_result"
    }
   ],
   "source": [
    "df[features].isnull().sum()"
   ]
  },
  {
   "cell_type": "code",
   "execution_count": null,
   "metadata": {
    "collapsed": false
   },
   "outputs": [],
   "source": []
  },
  {
   "cell_type": "code",
   "execution_count": null,
   "metadata": {
    "collapsed": true
   },
   "outputs": [],
   "source": []
  }
 ],
 "metadata": {
  "kernelspec": {
   "display_name": "Python 2",
   "language": "python",
   "name": "python2"
  },
  "language_info": {
   "codemirror_mode": {
    "name": "ipython",
    "version": 2
   },
   "file_extension": ".py",
   "mimetype": "text/x-python",
   "name": "python",
   "nbconvert_exporter": "python",
   "pygments_lexer": "ipython2",
   "version": "2.7.12"
  }
 },
 "nbformat": 4,
 "nbformat_minor": 2
}
